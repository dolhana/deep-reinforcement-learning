{
 "cells": [
  {
   "cell_type": "markdown",
   "metadata": {},
   "source": [
    "# Navigation\n",
    "\n",
    "---\n",
    "\n",
    "In this notebook, you will learn how to use the Unity ML-Agents environment for the first project of the [Deep Reinforcement Learning Nanodegree](https://www.udacity.com/course/deep-reinforcement-learning-nanodegree--nd893).\n",
    "\n",
    "### 1. Start the Environment\n",
    "\n",
    "We begin by importing some necessary packages.  If the code cell below returns an error, please revisit the project instructions to double-check that you have installed [Unity ML-Agents](https://github.com/Unity-Technologies/ml-agents/blob/master/docs/Installation.md) and [NumPy](http://www.numpy.org/)."
   ]
  },
  {
   "cell_type": "code",
   "execution_count": 1,
   "metadata": {},
   "outputs": [],
   "source": [
    "%load_ext autoreload\n",
    "%autoreload 2\n",
    "\n",
    "from unityagents import UnityEnvironment\n",
    "import numpy as np"
   ]
  },
  {
   "cell_type": "markdown",
   "metadata": {},
   "source": [
    "Next, we will start the environment!  **_Before running the code cell below_**, change the `file_name` parameter to match the location of the Unity environment that you downloaded.\n",
    "\n",
    "- **Mac**: `\"path/to/Banana.app\"`\n",
    "- **Windows** (x86): `\"path/to/Banana_Windows_x86/Banana.exe\"`\n",
    "- **Windows** (x86_64): `\"path/to/Banana_Windows_x86_64/Banana.exe\"`\n",
    "- **Linux** (x86): `\"path/to/Banana_Linux/Banana.x86\"`\n",
    "- **Linux** (x86_64): `\"path/to/Banana_Linux/Banana.x86_64\"`\n",
    "- **Linux** (x86, headless): `\"path/to/Banana_Linux_NoVis/Banana.x86\"`\n",
    "- **Linux** (x86_64, headless): `\"path/to/Banana_Linux_NoVis/Banana.x86_64\"`\n",
    "\n",
    "For instance, if you are using a Mac, then you downloaded `Banana.app`.  If this file is in the same folder as the notebook, then the line below should appear as follows:\n",
    "```\n",
    "env = UnityEnvironment(file_name=\"Banana.app\")\n",
    "```"
   ]
  },
  {
   "cell_type": "code",
   "execution_count": 2,
   "metadata": {},
   "outputs": [
    {
     "name": "stderr",
     "output_type": "stream",
     "text": [
      "INFO:unityagents:\n",
      "'Academy' started successfully!\n",
      "Unity Academy name: Academy\n",
      "        Number of Brains: 1\n",
      "        Number of External Brains : 1\n",
      "        Lesson number : 0\n",
      "        Reset Parameters :\n",
      "\t\t\n",
      "Unity brain name: BananaBrain\n",
      "        Number of Visual Observations (per agent): 0\n",
      "        Vector Observation space type: continuous\n",
      "        Vector Observation space size (per agent): 37\n",
      "        Number of stacked Vector Observation: 1\n",
      "        Vector Action space type: discrete\n",
      "        Vector Action space size (per agent): 4\n",
      "        Vector Action descriptions: , , , \n"
     ]
    }
   ],
   "source": [
    "env = UnityEnvironment(file_name=\"Banana_Linux_NoVis/Banana.x86_64\")"
   ]
  },
  {
   "cell_type": "markdown",
   "metadata": {},
   "source": [
    "Environments contain **_brains_** which are responsible for deciding the actions of their associated agents. Here we check for the first brain available, and set it as the default brain we will be controlling from Python."
   ]
  },
  {
   "cell_type": "code",
   "execution_count": 3,
   "metadata": {},
   "outputs": [],
   "source": [
    "# get the default brain\n",
    "brain_name = env.brain_names[0]\n",
    "brain = env.brains[brain_name]"
   ]
  },
  {
   "cell_type": "markdown",
   "metadata": {},
   "source": [
    "### 2. Examine the State and Action Spaces\n",
    "\n",
    "The simulation contains a single agent that navigates a large environment.  At each time step, it has four actions at its disposal:\n",
    "- `0` - walk forward \n",
    "- `1` - walk backward\n",
    "- `2` - turn left\n",
    "- `3` - turn right\n",
    "\n",
    "The state space has `37` dimensions and contains the agent's velocity, along with ray-based perception of objects around agent's forward direction.  A reward of `+1` is provided for collecting a yellow banana, and a reward of `-1` is provided for collecting a blue banana. \n",
    "\n",
    "Run the code cell below to print some information about the environment."
   ]
  },
  {
   "cell_type": "code",
   "execution_count": 4,
   "metadata": {},
   "outputs": [
    {
     "name": "stdout",
     "output_type": "stream",
     "text": [
      "Number of agents: 1\n",
      "Number of actions: 4\n",
      "States look like: [1.         0.         0.         0.         0.84408134 0.\n",
      " 0.         1.         0.         0.0748472  0.         1.\n",
      " 0.         0.         0.25755    1.         0.         0.\n",
      " 0.         0.74177343 0.         1.         0.         0.\n",
      " 0.25854847 0.         0.         1.         0.         0.09355672\n",
      " 0.         1.         0.         0.         0.31969345 0.\n",
      " 0.        ]\n",
      "States have length: 37\n"
     ]
    }
   ],
   "source": [
    "# reset the environment\n",
    "env_info = env.reset(train_mode=True)[brain_name]\n",
    "\n",
    "# number of agents in the environment\n",
    "print('Number of agents:', len(env_info.agents))\n",
    "\n",
    "# number of actions\n",
    "action_size = brain.vector_action_space_size\n",
    "print('Number of actions:', action_size)\n",
    "\n",
    "# examine the state space \n",
    "state = env_info.vector_observations[0]\n",
    "print('States look like:', state)\n",
    "state_size = len(state)\n",
    "print('States have length:', state_size)"
   ]
  },
  {
   "cell_type": "markdown",
   "metadata": {},
   "source": [
    "### 3. Take Random Actions in the Environment\n",
    "\n",
    "In the next code cell, you will learn how to use the Python API to control the agent and receive feedback from the environment.\n",
    "\n",
    "Once this cell is executed, you will watch the agent's performance, if it selects an action (uniformly) at random with each time step.  A window should pop up that allows you to observe the agent, as it moves through the environment.  \n",
    "\n",
    "Of course, as part of the project, you'll have to change the code so that the agent is able to use its experience to gradually choose better actions when interacting with the environment!"
   ]
  },
  {
   "cell_type": "code",
   "execution_count": 5,
   "metadata": {},
   "outputs": [
    {
     "name": "stdout",
     "output_type": "stream",
     "text": [
      "Score: 0.0\n"
     ]
    }
   ],
   "source": [
    "env_info = env.reset(train_mode=True)[brain_name] # reset the environment\n",
    "state = env_info.vector_observations[0]            # get the current state\n",
    "score = 0                                          # initialize the score\n",
    "while True:\n",
    "    action = np.random.randint(action_size)        # select an action\n",
    "    env_info = env.step(action)[brain_name]        # send the action to the environment\n",
    "    next_state = env_info.vector_observations[0]   # get the next state\n",
    "    reward = env_info.rewards[0]                   # get the reward\n",
    "    done = env_info.local_done[0]                  # see if episode has finished\n",
    "    score += reward                                # update the score\n",
    "    state = next_state                             # roll over the state to next time step\n",
    "    if done:                                       # exit loop if episode finished\n",
    "        break\n",
    "    \n",
    "print(\"Score: {}\".format(score))"
   ]
  },
  {
   "cell_type": "markdown",
   "metadata": {},
   "source": [
    "When finished, you can close the environment."
   ]
  },
  {
   "cell_type": "code",
   "execution_count": 6,
   "metadata": {},
   "outputs": [],
   "source": [
    "#env.close()"
   ]
  },
  {
   "cell_type": "markdown",
   "metadata": {},
   "source": [
    "### 4. It's Your Turn!\n",
    "\n",
    "Now it's your turn to train your own agent to solve the environment!  When training the environment, set `train_mode=True`, so that the line for resetting the environment looks like the following:\n",
    "```python\n",
    "env_info = env.reset(train_mode=True)[brain_name]\n",
    "```"
   ]
  },
  {
   "cell_type": "code",
   "execution_count": 7,
   "metadata": {},
   "outputs": [],
   "source": [
    "import tqdm\n",
    "\n",
    "from unityagents import UnityEnvironment\n",
    "import numpy as np\n",
    "\n",
    "%matplotlib inline\n",
    "import matplotlib.pyplot as plt\n",
    "import seaborn as sns\n",
    "sns.set()\n",
    "\n",
    "import torch\n",
    "import torch.nn as nn\n",
    "import torch.nn.functional as F\n",
    "\n",
    "device = torch.device(\"cuda:0\" if torch.cuda.is_available() else \"cpu\")"
   ]
  },
  {
   "cell_type": "code",
   "execution_count": 8,
   "metadata": {
    "scrolled": true
   },
   "outputs": [
    {
     "name": "stdout",
     "output_type": "stream",
     "text": [
      "Number of actions: 4\n",
      "States look like: [0.         0.         1.         0.         0.16101955 1.\n",
      " 0.         0.         0.         0.04571758 1.         0.\n",
      " 0.         0.         0.2937662  0.         0.         1.\n",
      " 0.         0.14386636 0.         0.         1.         0.\n",
      " 0.16776823 1.         0.         0.         0.         0.04420976\n",
      " 1.         0.         0.         0.         0.05423063 0.\n",
      " 0.        ]\n",
      "States have length: 37\n"
     ]
    }
   ],
   "source": [
    "# Get the default brain\n",
    "brain_name = env.brain_names[0]\n",
    "brain = env.brains[brain_name]\n",
    "    \n",
    "# reset the environment\n",
    "env_info = env.reset(train_mode=True)[brain_name]\n",
    "\n",
    "# number of actions\n",
    "num_actions = brain.vector_action_space_size\n",
    "print('Number of actions:', num_actions)\n",
    "\n",
    "# examine the state space \n",
    "state = env_info.vector_observations[0]\n",
    "print('States look like:', state)\n",
    "state_size = len(state)\n",
    "print('States have length:', state_size)"
   ]
  },
  {
   "cell_type": "code",
   "execution_count": 9,
   "metadata": {},
   "outputs": [
    {
     "data": {
      "text/plain": [
       "QNetwork(\n",
       "  (fc1): Linear(in_features=37, out_features=64, bias=True)\n",
       "  (fc2): Linear(in_features=64, out_features=64, bias=True)\n",
       "  (fc3): Linear(in_features=64, out_features=4, bias=True)\n",
       ")"
      ]
     },
     "execution_count": 9,
     "metadata": {},
     "output_type": "execute_result"
    }
   ],
   "source": [
    "from dqn_agent import Agent\n",
    "\n",
    "agent = Agent(state_size=state_size, action_size=num_actions, seed=0)\n",
    "agent.qnetwork_local"
   ]
  },
  {
   "cell_type": "code",
   "execution_count": 10,
   "metadata": {},
   "outputs": [],
   "source": [
    "# watch an untrained agent\n",
    "#env = make_environment()\n",
    "env_info = env.reset(train_mode=True)[brain_name]\n",
    "state = env_info.vector_observations[0]\n",
    "for j in range(200):\n",
    "    action = agent.act(state)\n",
    "    env_info = env.step(action)[brain_name]        # send the action to the environment\n",
    "    state = env_info.vector_observations[0]   # get the next state\n",
    "    reward = env_info.rewards[0]                   # get the reward\n",
    "    done = env_info.local_done[0]                  # see if episode has finished\n",
    "    if done:\n",
    "        break"
   ]
  },
  {
   "cell_type": "code",
   "execution_count": 22,
   "metadata": {},
   "outputs": [
    {
     "name": "stderr",
     "output_type": "stream",
     "text": [
      "100%|██████████| 1/1 [00:00<00:00,  1.52it/s, episode=1, score_mean=0]\n",
      "100%|██████████| 10/10 [00:05<00:00,  1.82it/s, episode=10, score_mean=-.4]\n"
     ]
    },
    {
     "data": {
      "image/png": "[encoded data removed]",
      "text/plain": [
       "<Figure size 432x288 with 1 Axes>"
      ]
     },
     "metadata": {
      "needs_background": "light"
     },
     "output_type": "display_data"
    }
   ],
   "source": [
    "from collections import deque\n",
    "\n",
    "def dqn(env, agent, n_episodes=2000, max_t=1000, eps_start=1., eps_end=0.01, eps_decay=0.995):\n",
    "    \"\"\"Deep Q-Learning\n",
    "    \n",
    "    Args:\n",
    "      n_episodes (int): maximum number of training episodes\n",
    "      max_t (int): maximum number of timesteps per episodes\n",
    "      eps_start (float): starting value of epsilon, for epsilon-greedy action selection\n",
    "      eps_end (float): minimum value of epsilon\n",
    "      eps_decay (float): multiplicative factor (per episode) for decreasing epsilon\n",
    "    \"\"\"\n",
    "    scores = []\n",
    "    scores_window = deque(maxlen=100)\n",
    "    eps = eps_start\n",
    "    progress = tqdm.trange(1, n_episodes + 1)\n",
    "    for i_episode in progress:\n",
    "        env_info = env.reset(train_mode=True)[brain_name]\n",
    "        state = env_info.vector_observations[0]\n",
    "        score = 0\n",
    "        \n",
    "        for t in range(max_t):\n",
    "            action = agent.act(state)\n",
    "            \n",
    "            env_info = env.step(action)[brain_name]\n",
    "            next_state = env_info.vector_observations[0]\n",
    "            reward = env_info.rewards[0]\n",
    "            done = env_info.local_done[0]\n",
    "            \n",
    "            agent.step(state, action, reward, next_state, done)\n",
    "            state = next_state\n",
    "            score += reward\n",
    "            if done:\n",
    "                break\n",
    "                \n",
    "        scores_window.append(score)\n",
    "        scores.append(score)\n",
    "        scores_mean = np.mean(scores_window)\n",
    "        #print(f'\\rEpisode {i_episode}\\tAverage Score: {scores_mean:.2f}', end='')\n",
    "        progress.set_postfix({'episode': i_episode, 'score_mean': scores_mean})\n",
    "        \n",
    "        if scores_mean >= 13.:\n",
    "            print(f'\\nEnvironment solved in {i_episode - 100} epsidoes!\\nAverage Score: {scores_mean}')\n",
    "            torch.save(agent.qnetwork_local.state_dict(), 'qnetwork_local_checkpoint.pth')\n",
    "            break\n",
    "        \n",
    "        eps = max(eps_end, eps_decay * eps)\n",
    "        \n",
    "    return scores\n",
    "\n",
    "def plot_scores(scores):\n",
    "    fig = plt.figure()\n",
    "    ax = fig.add_subplot(111)\n",
    "    plt.plot(np.arange(len(scores)), scores)\n",
    "    plt.ylabel('Score')\n",
    "    plt.xlabel('Episode #')\n",
    "    plt.show()\n",
    "\n",
    "agent = Agent(state_size=state_size, action_size=num_actions, seed=0, device=torch.device('cuda'))\n",
    "scores = dqn(env, agent, n_episodes=1)\n",
    "\n",
    "agent = Agent(state_size=state_size, action_size=num_actions, seed=0, device=torch.device('cpu'))\n",
    "scores = dqn(env, agent, n_episodes=10)\n",
    "plot_scores(scores)"
   ]
  },
  {
   "cell_type": "code",
   "execution_count": 37,
   "metadata": {},
   "outputs": [
    {
     "name": "stderr",
     "output_type": "stream",
     "text": [
      "  0%|          | 1/1000 [00:00<02:48,  5.94it/s, episode=1, score_mean=0]"
     ]
    },
    {
     "name": "stdout",
     "output_type": "stream",
     "text": [
      "QNetwork(\n",
      "  (fc1): Linear(in_features=37, out_features=256, bias=True)\n",
      "  (fc2): Linear(in_features=256, out_features=128, bias=True)\n",
      "  (fc3): Linear(in_features=128, out_features=4, bias=True)\n",
      ")\n"
     ]
    },
    {
     "name": "stderr",
     "output_type": "stream",
     "text": [
      "100%|██████████| 1000/1000 [03:42<00:00,  4.44it/s, episode=1000, score_mean=4.72]\n"
     ]
    },
    {
     "data": {
      "image/png": "[encoded data removed]",
      "text/plain": [
       "<Figure size 432x288 with 1 Axes>"
      ]
     },
     "metadata": {
      "needs_background": "light"
     },
     "output_type": "display_data"
    }
   ],
   "source": [
    "agent = Agent(state_size=state_size, action_size=num_actions, seed=0,\n",
    "              fc1_units=256, fc2_units=128, device=torch.device('cpu'))\n",
    "print(agent.qnetwork_local)\n",
    "scores = dqn(env, agent, n_episodes=1000, max_t=100)\n",
    "plot_scores(scores)"
   ]
  },
  {
   "cell_type": "code",
   "execution_count": 38,
   "metadata": {},
   "outputs": [
    {
     "name": "stderr",
     "output_type": "stream",
     "text": [
      "\r",
      "  0%|          | 0/1000 [00:00<?, ?it/s]"
     ]
    },
    {
     "name": "stdout",
     "output_type": "stream",
     "text": [
      "QNetwork(\n",
      "  (fc1): Linear(in_features=37, out_features=256, bias=True)\n",
      "  (fc2): Linear(in_features=256, out_features=128, bias=True)\n",
      "  (fc3): Linear(in_features=128, out_features=4, bias=True)\n",
      ")\n"
     ]
    },
    {
     "name": "stderr",
     "output_type": "stream",
     "text": [
      " 51%|█████     | 510/1000 [05:33<05:22,  1.52it/s, episode=511, score_mean=13.1]"
     ]
    },
    {
     "name": "stdout",
     "output_type": "stream",
     "text": [
      "\n",
      "Environment solved in 411 epsidoes!\n",
      "Average Score: 13.12\n"
     ]
    },
    {
     "data": {
      "image/png": "[encoded data removed]",
      "text/plain": [
       "<Figure size 432x288 with 1 Axes>"
      ]
     },
     "metadata": {
      "needs_background": "light"
     },
     "output_type": "display_data"
    }
   ],
   "source": [
    "agent = Agent(state_size=state_size, action_size=num_actions, seed=0,\n",
    "              fc1_units=256, fc2_units=128, device=torch.device('cpu'))\n",
    "print(agent.qnetwork_local)\n",
    "scores = dqn(env, agent, n_episodes=1000, max_t=1000)\n",
    "plot_scores(scores)"
   ]
  },
  {
   "cell_type": "code",
   "execution_count": 23,
   "metadata": {},
   "outputs": [
    {
     "name": "stderr",
     "output_type": "stream",
     "text": [
      "\r",
      "  0%|          | 0/100 [00:00<?, ?it/s]"
     ]
    },
    {
     "name": "stdout",
     "output_type": "stream",
     "text": [
      "QNetwork(\n",
      "  (fc1): Linear(in_features=37, out_features=256, bias=True)\n",
      "  (fc2): Linear(in_features=256, out_features=128, bias=True)\n",
      "  (fc3): Linear(in_features=128, out_features=4, bias=True)\n",
      ")\n"
     ]
    },
    {
     "name": "stderr",
     "output_type": "stream",
     "text": [
      "100%|██████████| 100/100 [01:03<00:00,  1.56it/s, episode=100, score_mean=2.52]\n"
     ]
    },
    {
     "data": {
      "image/png": "[encoded data removed]",
      "text/plain": [
       "<Figure size 432x288 with 1 Axes>"
      ]
     },
     "metadata": {
      "needs_background": "light"
     },
     "output_type": "display_data"
    }
   ],
   "source": [
    "agent = Agent(state_size=state_size, action_size=num_actions, seed=0,\n",
    "              fc1_units=256, fc2_units=128, device=torch.device('cpu'))\n",
    "print(agent.qnetwork_local)\n",
    "scores = dqn(env, agent, n_episodes=100)\n",
    "plot_scores(scores)"
   ]
  },
  {
   "cell_type": "code",
   "execution_count": 24,
   "metadata": {},
   "outputs": [
    {
     "name": "stderr",
     "output_type": "stream",
     "text": [
      "\r",
      "  0%|          | 0/100 [00:00<?, ?it/s]"
     ]
    },
    {
     "name": "stdout",
     "output_type": "stream",
     "text": [
      "QNetwork(\n",
      "  (fc1): Linear(in_features=37, out_features=256, bias=True)\n",
      "  (fc2): Linear(in_features=256, out_features=128, bias=True)\n",
      "  (fc3): Linear(in_features=128, out_features=4, bias=True)\n",
      ")\n"
     ]
    },
    {
     "name": "stderr",
     "output_type": "stream",
     "text": [
      "100%|██████████| 100/100 [01:12<00:00,  1.37it/s, episode=100, score_mean=0.65]\n"
     ]
    },
    {
     "data": {
      "image/png": "[encoded data removed]",
      "text/plain": [
       "<Figure size 432x288 with 1 Axes>"
      ]
     },
     "metadata": {
      "needs_background": "light"
     },
     "output_type": "display_data"
    }
   ],
   "source": [
    "agent = Agent(state_size=state_size, action_size=num_actions, seed=0,\n",
    "              fc1_units=256, fc2_units=128, device=torch.device('cuda'))\n",
    "print(agent.qnetwork_local)\n",
    "scores = dqn(env, agent, n_episodes=100)\n",
    "plot_scores(scores)"
   ]
  },
  {
   "cell_type": "code",
   "execution_count": 25,
   "metadata": {},
   "outputs": [
    {
     "name": "stderr",
     "output_type": "stream",
     "text": [
      "\r",
      "  0%|          | 0/100 [00:00<?, ?it/s]"
     ]
    },
    {
     "name": "stdout",
     "output_type": "stream",
     "text": [
      "QNetwork(\n",
      "  (fc1): Linear(in_features=37, out_features=64, bias=True)\n",
      "  (fc2): Linear(in_features=64, out_features=64, bias=True)\n",
      "  (fc3): Linear(in_features=64, out_features=4, bias=True)\n",
      ")\n"
     ]
    },
    {
     "name": "stderr",
     "output_type": "stream",
     "text": [
      "100%|██████████| 100/100 [00:56<00:00,  1.77it/s, episode=100, score_mean=2.59]\n"
     ]
    },
    {
     "data": {
      "image/png": "[encoded data removed]",
      "text/plain": [
       "<Figure size 432x288 with 1 Axes>"
      ]
     },
     "metadata": {
      "needs_background": "light"
     },
     "output_type": "display_data"
    }
   ],
   "source": [
    "agent = Agent(state_size=state_size, action_size=num_actions, seed=0,\n",
    "              fc1_units=64, fc2_units=64, device=torch.device('cpu'))\n",
    "print(agent.qnetwork_local)\n",
    "scores = dqn(env, agent, n_episodes=100)\n",
    "plot_scores(scores)"
   ]
  },
  {
   "cell_type": "code",
   "execution_count": 20,
   "metadata": {},
   "outputs": [
    {
     "data": {
      "text/html": [
       "<div>\n",
       "<style scoped>\n",
       "    .dataframe tbody tr th:only-of-type {\n",
       "        vertical-align: middle;\n",
       "    }\n",
       "\n",
       "    .dataframe tbody tr th {\n",
       "        vertical-align: top;\n",
       "    }\n",
       "\n",
       "    .dataframe thead th {\n",
       "        text-align: right;\n",
       "    }\n",
       "</style>\n",
       "<table border=\"1\" class=\"dataframe\">\n",
       "  <thead>\n",
       "    <tr style=\"text-align: right;\">\n",
       "      <th></th>\n",
       "      <th>s</th>\n",
       "      <th>a</th>\n",
       "      <th>r</th>\n",
       "      <th>s_next</th>\n",
       "      <th>done</th>\n",
       "    </tr>\n",
       "  </thead>\n",
       "  <tbody>\n",
       "    <tr>\n",
       "      <th>0</th>\n",
       "      <td>[0.0, 0.0, 1.0, 0.0, 0.12753459811210632, 0.0,...</td>\n",
       "      <td>1</td>\n",
       "      <td>0.0</td>\n",
       "      <td>[0.0, 0.0, 0.0, 1.0, 0.0, 0.0, 0.0, 1.0, 0.0, ...</td>\n",
       "      <td>False</td>\n",
       "    </tr>\n",
       "    <tr>\n",
       "      <th>1</th>\n",
       "      <td>[0.0, 0.0, 0.0, 1.0, 0.0, 0.0, 0.0, 1.0, 0.0, ...</td>\n",
       "      <td>1</td>\n",
       "      <td>0.0</td>\n",
       "      <td>[0.0, 0.0, 0.0, 1.0, 0.0, 0.0, 0.0, 1.0, 0.0, ...</td>\n",
       "      <td>False</td>\n",
       "    </tr>\n",
       "    <tr>\n",
       "      <th>2</th>\n",
       "      <td>[0.0, 0.0, 0.0, 1.0, 0.0, 0.0, 0.0, 1.0, 0.0, ...</td>\n",
       "      <td>0</td>\n",
       "      <td>0.0</td>\n",
       "      <td>[0.0, 0.0, 0.0, 1.0, 0.0, 0.0, 0.0, 1.0, 0.0, ...</td>\n",
       "      <td>False</td>\n",
       "    </tr>\n",
       "    <tr>\n",
       "      <th>3</th>\n",
       "      <td>[0.0, 0.0, 0.0, 1.0, 0.0, 0.0, 0.0, 1.0, 0.0, ...</td>\n",
       "      <td>1</td>\n",
       "      <td>0.0</td>\n",
       "      <td>[0.0, 0.0, 0.0, 1.0, 0.0, 0.0, 0.0, 1.0, 0.0, ...</td>\n",
       "      <td>False</td>\n",
       "    </tr>\n",
       "    <tr>\n",
       "      <th>4</th>\n",
       "      <td>[0.0, 0.0, 0.0, 1.0, 0.0, 0.0, 0.0, 1.0, 0.0, ...</td>\n",
       "      <td>1</td>\n",
       "      <td>0.0</td>\n",
       "      <td>[0.0, 0.0, 0.0, 1.0, 0.0, 0.0, 0.0, 1.0, 0.0, ...</td>\n",
       "      <td>False</td>\n",
       "    </tr>\n",
       "  </tbody>\n",
       "</table>\n",
       "</div>"
      ],
      "text/plain": [
       "                                                   s  a    r  \\\n",
       "0  [0.0, 0.0, 1.0, 0.0, 0.12753459811210632, 0.0,...  1  0.0   \n",
       "1  [0.0, 0.0, 0.0, 1.0, 0.0, 0.0, 0.0, 1.0, 0.0, ...  1  0.0   \n",
       "2  [0.0, 0.0, 0.0, 1.0, 0.0, 0.0, 0.0, 1.0, 0.0, ...  0  0.0   \n",
       "3  [0.0, 0.0, 0.0, 1.0, 0.0, 0.0, 0.0, 1.0, 0.0, ...  1  0.0   \n",
       "4  [0.0, 0.0, 0.0, 1.0, 0.0, 0.0, 0.0, 1.0, 0.0, ...  1  0.0   \n",
       "\n",
       "                                              s_next   done  \n",
       "0  [0.0, 0.0, 0.0, 1.0, 0.0, 0.0, 0.0, 1.0, 0.0, ...  False  \n",
       "1  [0.0, 0.0, 0.0, 1.0, 0.0, 0.0, 0.0, 1.0, 0.0, ...  False  \n",
       "2  [0.0, 0.0, 0.0, 1.0, 0.0, 0.0, 0.0, 1.0, 0.0, ...  False  \n",
       "3  [0.0, 0.0, 0.0, 1.0, 0.0, 0.0, 0.0, 1.0, 0.0, ...  False  \n",
       "4  [0.0, 0.0, 0.0, 1.0, 0.0, 0.0, 0.0, 1.0, 0.0, ...  False  "
      ]
     },
     "execution_count": 20,
     "metadata": {},
     "output_type": "execute_result"
    }
   ],
   "source": [
    "import pandas as pd\n",
    "\n",
    "df = pd.DataFrame.from_records(list(agent.memory.memory), columns=['s', 'a', 'r', 's_next','done'])\n",
    "df.head()"
   ]
  },
  {
   "cell_type": "code",
   "execution_count": 21,
   "metadata": {},
   "outputs": [
    {
     "data": {
      "text/plain": [
       "0        1\n",
       "1        1\n",
       "2        0\n",
       "3        1\n",
       "4        1\n",
       "5        0\n",
       "6        1\n",
       "7        1\n",
       "8        0\n",
       "9        1\n",
       "10       1\n",
       "11       0\n",
       "12       1\n",
       "13       1\n",
       "14       0\n",
       "15       1\n",
       "16       1\n",
       "17       0\n",
       "18       1\n",
       "19       1\n",
       "20       1\n",
       "21       0\n",
       "22       1\n",
       "23       1\n",
       "24       0\n",
       "25       1\n",
       "26       1\n",
       "27       0\n",
       "28       1\n",
       "29       0\n",
       "        ..\n",
       "29970    0\n",
       "29971    1\n",
       "29972    1\n",
       "29973    0\n",
       "29974    0\n",
       "29975    1\n",
       "29976    1\n",
       "29977    0\n",
       "29978    0\n",
       "29979    1\n",
       "29980    1\n",
       "29981    0\n",
       "29982    0\n",
       "29983    1\n",
       "29984    1\n",
       "29985    0\n",
       "29986    0\n",
       "29987    1\n",
       "29988    1\n",
       "29989    0\n",
       "29990    0\n",
       "29991    1\n",
       "29992    1\n",
       "29993    0\n",
       "29994    0\n",
       "29995    1\n",
       "29996    1\n",
       "29997    0\n",
       "29998    0\n",
       "29999    0\n",
       "Name: a, Length: 30000, dtype: int64"
      ]
     },
     "execution_count": 21,
     "metadata": {},
     "output_type": "execute_result"
    }
   ],
   "source": [
    "df['a']"
   ]
  },
  {
   "cell_type": "code",
   "execution_count": 42,
   "metadata": {
    "scrolled": false
   },
   "outputs": [
    {
     "name": "stdout",
     "output_type": "stream",
     "text": [
      "Q(\n",
      "  (fc1): Linear(in_features=37, out_features=256, bias=True)\n",
      "  (fc2): Linear(in_features=256, out_features=128, bias=True)\n",
      "  (fc3): Linear(in_features=128, out_features=4, bias=True)\n",
      ")\n",
      "[ 0.06685083  0.03782009  0.00553394 -0.03237629]\n",
      "[[ 0.06685083  0.03782009  0.00553394 -0.03237629]\n",
      " [ 0.06685083  0.03782009  0.00553394 -0.03237629]]\n",
      "==================================================\n",
      "[[0. 0. 0. 1. 0.]\n",
      " [0. 0. 0. 1. 0.]]\n",
      "[[0]\n",
      " [0]]\n",
      "[[0.]\n",
      " [0.]]\n",
      "[[0.         0.         0.         1.         0.        ]\n",
      " [0.         0.         1.         0.         0.35670558]]\n",
      "[[False]\n",
      " [False]]\n"
     ]
    }
   ],
   "source": [
    "class Q(nn.Module):\n",
    "    \n",
    "    def __init__(self, state_size, action_size):\n",
    "        super(Q, self).__init__()\n",
    "        \n",
    "        self.fc1 = nn.Linear(state_size, 256)\n",
    "        self.fc2 = nn.Linear(256, 128)\n",
    "        self.fc3 = nn.Linear(128, action_size)\n",
    "        \n",
    "        self.fc1.weight.data.normal_(std=1/state_size)\n",
    "        self.fc1.bias.data.zero_()\n",
    "        self.fc2.weight.data.normal_(std=1/256)\n",
    "        self.fc2.bias.data.zero_()\n",
    "        self.fc3.weight.data.normal_(std=1/128)\n",
    "        self.fc2.bias.data.zero_()\n",
    "        \n",
    "    def forward(self, x):\n",
    "        x = self.fc1(x)\n",
    "        x = F.relu(x)\n",
    "        x = self.fc2(x)\n",
    "        x = F.relu(x)\n",
    "        x = self.fc3(x)\n",
    "        return x\n",
    "    \n",
    "    def td_target(self, rewards, next_states, dones, gamma):\n",
    "        device = self.get_device()\n",
    "        next_states = torch.as_tensor(next_states, dtype=torch.float32).to(device)\n",
    "        rewards = torch.as_tensor(rewards, dtype=torch.float32).to(device)\n",
    "        dones = torch.as_tensor(dones.astype(int), dtype=torch.float32).to(device)\n",
    "        max_q, _ = torch.max(self.forward(next_states), dim=-1, keepdim=True)\n",
    "        y = rewards + (1 - dones) * gamma * max_q\n",
    "        return y\n",
    "        \n",
    "    def loss(self, states, actions, td_targets):\n",
    "        device = self.get_device()\n",
    "        states = torch.as_tensor(states, dtype=torch.float32).to(device)\n",
    "        actions = torch.as_tensor(actions, dtype=torch.long).to(device)\n",
    "        q = self.forward(states).gather(1, actions.view(-1, 1))\n",
    "        loss = F.mse_loss(q, td_targets.to(device))\n",
    "        return loss\n",
    "    \n",
    "    def get_device(self):\n",
    "        return next(self.parameters()).device\n",
    "    \n",
    "    def action_values(self, state):\n",
    "        state = torch.as_tensor(state, dtype=torch.float32).to(self.get_device())\n",
    "        values = self.forward(state)\n",
    "        return values.detach().cpu().numpy()\n",
    "    \n",
    "    def pick_action(self, state):\n",
    "        state = torch.as_tensor(state, dtype=torch.float32).to(self.get_device())\n",
    "        action = torch.argmax(self.forward(state), dim=-1, keepdim=True)\n",
    "        return action.detach().cpu().numpy()\n",
    "    \n",
    "    def copy(self, other):\n",
    "        self.load_state_dict(other.state_dict())\n",
    "    \n",
    "q = Q(state_size, action_size)\n",
    "print(q)\n",
    "\n",
    "env_info = env.reset(train_mode=True)[brain_name]\n",
    "state = env_info.vector_observations[0]\n",
    "action_values = q.action_values(state)\n",
    "print(action_values)\n",
    "\n",
    "states = [state, state]\n",
    "action_values = q.action_values(states)\n",
    "print(action_values)\n",
    "\n",
    "q2 = Q(state_size, action_size)\n",
    "q2.copy(q)\n",
    "assert np.array_equal(q.fc1.weight.data.detach().numpy(), q2.fc1.weight.data.detach().numpy())\n",
    "\n",
    "print('=' * 50)\n",
    "\n",
    "states = np.zeros([2, state_size])\n",
    "actions = np.zeros([2, 1], dtype=int)\n",
    "rewards = np.zeros([2, 1])\n",
    "next_states = np.zeros([2, state_size])\n",
    "dones = np.full([2, 1], False)\n",
    "\n",
    "q.to(device)\n",
    "\n",
    "env_info = env.reset(train_mode=True)[brain_name]\n",
    "state = env_info.vector_observations[0]\n",
    "\n",
    "for i in range(2):\n",
    "    action = q.pick_action(state)\n",
    "    env_info = env.step(action)[brain_name]\n",
    "    reward = env_info.rewards[0]\n",
    "    next_state = env_info.vector_observations[0]\n",
    "    done = env_info.local_done[0]\n",
    "    states[i] = state\n",
    "    actions[i] = action\n",
    "    rewards[i] = reward\n",
    "    next_states[i] = next_state\n",
    "    dones[i] = done\n",
    "    state = next_state\n",
    "\n",
    "print(states[:, :5])\n",
    "print(actions)\n",
    "print(rewards)\n",
    "print(next_states[:, :5])\n",
    "print(dones)\n",
    "\n",
    "optimizer = torch.optim.Adam(q.parameters())\n",
    "optimizer.zero_grad()\n",
    "y = q.td_target(rewards, next_states, dones, gamma=1.0)\n",
    "loss = q.loss(states, actions, y)\n",
    "loss.backward()\n",
    "optimizer.step()"
   ]
  },
  {
   "cell_type": "code",
   "execution_count": 12,
   "metadata": {},
   "outputs": [
    {
     "name": "stdout",
     "output_type": "stream",
     "text": [
      "0 <class 'int'>\n"
     ]
    }
   ],
   "source": [
    "def egreedy(state, q_model, epsilon=0.1):\n",
    "    if np.random.random() >= epsilon:\n",
    "        return int(np.argmax(q_model.action_values(state)))\n",
    "    else:\n",
    "        return np.random.randint(action_size)\n",
    "\n",
    "q_model = Q(state_size, action_size)\n",
    "env_info = env.reset(train_mode=True)[brain_name]\n",
    "state = env_info.vector_observations[0]\n",
    "action = egreedy(state, q_model, epsilon=0.)\n",
    "print(action, type(action))\n",
    "env_info = env.step(action)[brain_name]"
   ]
  },
  {
   "cell_type": "code",
   "execution_count": 13,
   "metadata": {},
   "outputs": [
    {
     "name": "stdout",
     "output_type": "stream",
     "text": [
      "samples:\n",
      " (array([[0.00000000e+00, 1.00000000e+00, 0.00000000e+00, 0.00000000e+00,\n",
      "        4.97567415e-01, 0.00000000e+00, 0.00000000e+00, 1.00000000e+00,\n",
      "        0.00000000e+00, 1.71893001e-01, 1.00000000e+00, 0.00000000e+00,\n",
      "        0.00000000e+00, 0.00000000e+00, 3.21931839e-01, 1.00000000e+00,\n",
      "        0.00000000e+00, 0.00000000e+00, 0.00000000e+00, 2.09156588e-01,\n",
      "        0.00000000e+00, 1.00000000e+00, 0.00000000e+00, 0.00000000e+00,\n",
      "        9.05856907e-01, 0.00000000e+00, 1.00000000e+00, 0.00000000e+00,\n",
      "        0.00000000e+00, 3.39805841e-01, 0.00000000e+00, 1.00000000e+00,\n",
      "        0.00000000e+00, 0.00000000e+00, 4.63989139e-01, 4.76837158e-07,\n",
      "        1.16585569e+01]]), array([[0]]), array([[0.]]), array([[0.00000000e+00, 1.00000000e+00, 0.00000000e+00, 0.00000000e+00,\n",
      "        4.65226740e-01, 0.00000000e+00, 0.00000000e+00, 1.00000000e+00,\n",
      "        0.00000000e+00, 1.46574378e-01, 1.00000000e+00, 0.00000000e+00,\n",
      "        0.00000000e+00, 0.00000000e+00, 3.09724241e-01, 1.00000000e+00,\n",
      "        0.00000000e+00, 0.00000000e+00, 0.00000000e+00, 1.84631914e-01,\n",
      "        0.00000000e+00, 1.00000000e+00, 0.00000000e+00, 0.00000000e+00,\n",
      "        8.46978605e-01, 0.00000000e+00, 1.00000000e+00, 0.00000000e+00,\n",
      "        0.00000000e+00, 3.17719281e-01, 0.00000000e+00, 1.00000000e+00,\n",
      "        0.00000000e+00, 0.00000000e+00, 4.33830947e-01, 9.53674316e-07,\n",
      "        1.21403904e+01]]), array([[False]]))\n",
      "states:\n",
      " [[0.         1.         0.         0.         0.43208787]\n",
      " [0.         1.         0.         0.         0.39861211]]\n",
      "next_states:\n",
      " [[0.         1.         0.         0.         0.39861211]\n",
      " [1.         0.         0.         0.         0.14386976]]\n"
     ]
    }
   ],
   "source": [
    "class ReplayMemory:\n",
    "    def __init__(self, state_shape, action_shape, capacity=2**20):\n",
    "        self.capacity = capacity\n",
    "        self.states = np.zeros([capacity, *state_shape])\n",
    "        self.actions = np.zeros([capacity, *action_shape], dtype=int)\n",
    "        self.rewards = np.zeros([capacity, 1])\n",
    "        self.next_states = np.zeros([capacity, *state_shape])\n",
    "        self.dones = np.full([capacity, 1], False)\n",
    "        self.cursor = 0\n",
    "        self.full = False\n",
    "        \n",
    "    def store(self, state, action, reward, next_state, done):\n",
    "        self.states[self.cursor] = state\n",
    "        self.actions[self.cursor] = action\n",
    "        self.rewards[self.cursor] = reward\n",
    "        self.next_states[self.cursor] = next_state\n",
    "        self.dones[self.cursor] = done\n",
    "        self.cursor = (self.cursor + 1) % self.capacity\n",
    "        if not self.full and self.cursor == 0:\n",
    "            self.full = True\n",
    "            \n",
    "    def sample(self, n_samples):\n",
    "        if not self.full and self.cursor < n_samples:\n",
    "            return [], [], [], [], []\n",
    "        \n",
    "        end_index = self.cursor if not self.full else self.capacity\n",
    "        samples = np.random.choice(end_index, size=n_samples)\n",
    "        return (\n",
    "            self.states[samples],\n",
    "            self.actions[samples],\n",
    "            self.rewards[samples],\n",
    "            self.next_states[samples],\n",
    "            self.dones[samples])\n",
    "\n",
    "q = Q(state_size, action_size)\n",
    "replay = ReplayMemory([state_size], [1], capacity=5)\n",
    "env_info = env.reset(train_mode=True)[brain_name]\n",
    "state = env_info.vector_observations[0]\n",
    "\n",
    "for _ in range(8):\n",
    "    action = egreedy(state, q, epsilon=0.)\n",
    "    env_info = env.step(action)[brain_name]\n",
    "    reward = env_info.rewards[0]\n",
    "    next_state = env_info.vector_observations[0]\n",
    "    done = env_info.local_done[0]\n",
    "    replay.store(state, action, reward, next_state, done)\n",
    "    state = next_state\n",
    "    \n",
    "samples = replay.sample(1)\n",
    "print(\"samples:\\n\", samples)\n",
    "\n",
    "print(\"states:\\n\", replay.states[:2, :5])\n",
    "print(\"next_states:\\n\", replay.next_states[:2, :5])"
   ]
  },
  {
   "cell_type": "markdown",
   "metadata": {},
   "source": [
    "### TODO\n",
    "\n",
    "  * target update interval\n",
    "  * step skip interval\n",
    "  * epsilon annealing"
   ]
  },
  {
   "cell_type": "code",
   "execution_count": 44,
   "metadata": {},
   "outputs": [
    {
     "name": "stderr",
     "output_type": "stream",
     "text": [
      "100%|█████████████| 10/10 [00:50<00:00,  5.06s/it]\n"
     ]
    },
    {
     "name": "stdout",
     "output_type": "stream",
     "text": [
      "[0.0, 1.0, 4.0, 5.0, 3.0, 3.0, 1.0, 5.0, 8.0, 2.0]\n"
     ]
    },
    {
     "name": "stderr",
     "output_type": "stream",
     "text": [
      "100%|█████████████| 10/10 [00:23<00:00,  2.41s/it]\n"
     ]
    },
    {
     "name": "stdout",
     "output_type": "stream",
     "text": [
      "[1.0, 0.0, -1.0, 0.0, -1.0, 1.0, 3.0, 3.0, 4.0, 2.0]\n"
     ]
    }
   ],
   "source": [
    "import sys\n",
    "\n",
    "def train(env, num_episodes=1, alpha=1e-4, batch_size=32,\n",
    "          epsilon=0.1, gamma=.99,\n",
    "          target_update_interval=10**4,\n",
    "          episode_scores=None,\n",
    "          device=None):\n",
    "    if device is None:\n",
    "        device = torch.device(\"cuda\" if torch.cuda.is_available() else \"cpu\")\n",
    "        \n",
    "    target_model = Q(state_size, action_size)\n",
    "    behavior_model = Q(state_size, action_size).to(device)\n",
    "    behavior_model.copy(target_model)\n",
    "    target_model.eval()\n",
    "    \n",
    "    optimizer = torch.optim.Adam(behavior_model.parameters(), lr=alpha)\n",
    "\n",
    "    def policy(state):\n",
    "        return egreedy(state, behavior_model, epsilon)\n",
    "    \n",
    "    replay = ReplayMemory([state_size], [1])\n",
    "    i_step = 0\n",
    "    \n",
    "    for i_episode in tqdm.trange(num_episodes, ncols=50):\n",
    "        env_info = env.reset(train_mode=True)[brain_name]\n",
    "        state = env_info.vector_observations[0]\n",
    "        done = env_info.local_done[0]\n",
    "        score = 0\n",
    "        \n",
    "        while not done:\n",
    "            action = policy(state)\n",
    "            env_info = env.step(action)[brain_name]\n",
    "            next_state = env_info.vector_observations[0]\n",
    "            reward = env_info.rewards[0]\n",
    "            done = env_info.local_done[0]\n",
    "            replay.store(state, action, reward, next_state, done)\n",
    "            states, actions, rewards, next_states, dones = replay.sample(batch_size)\n",
    "            if len(states) > 0:\n",
    "                y = target_model.td_target(rewards, next_states, dones, gamma)\n",
    "                behavior_model.train()\n",
    "                optimizer.zero_grad()\n",
    "                loss = behavior_model.loss(states, actions, y)\n",
    "                loss.backward()\n",
    "                optimizer.step()\n",
    "                behavior_model.eval()\n",
    "                \n",
    "                if (i_step + 1) % target_update_interval == 0:\n",
    "                    target_model.copy(behavior_model)\n",
    "                i_step += 1\n",
    "\n",
    "            score += reward\n",
    "            state = next_state\n",
    "        \n",
    "        if episode_scores is not None:\n",
    "            episode_scores.append(score)\n",
    "        #sys.stdout.write('\\rEpisode {}/{} Score: {}'.format(i_episode+1, num_episodes, score))\n",
    "    #sys.stdout.write('\\n')\n",
    "    \n",
    "    return target_model\n",
    "\n",
    "\n",
    "for device1 in [torch.device('cuda'), torch.device('cpu')]:\n",
    "    episode_scores = []\n",
    "    train(env, num_episodes=10, batch_size=32, target_update_interval=5, episode_scores=episode_scores,\n",
    "          device=device1)\n",
    "    print(episode_scores)"
   ]
  },
  {
   "cell_type": "code",
   "execution_count": null,
   "metadata": {},
   "outputs": [
    {
     "name": "stderr",
     "output_type": "stream",
     "text": [
      "\n",
      "  0%|                    | 0/1000 [00:00<?, ?it/s]\n",
      "  0%|            | 1/1000 [00:02<35:34,  2.14s/it]\n",
      "  0%|            | 2/1000 [00:04<35:11,  2.12s/it]\n",
      "  0%|            | 3/1000 [00:06<36:39,  2.21s/it]\n",
      "  0%|            | 4/1000 [00:09<38:05,  2.29s/it]\n",
      "  0%|            | 5/1000 [00:11<38:46,  2.34s/it]\n",
      "  1%|            | 6/1000 [00:13<37:20,  2.25s/it]\n",
      "  1%|            | 7/1000 [00:15<35:55,  2.17s/it]\n",
      "  1%|            | 8/1000 [00:17<34:54,  2.11s/it]\n",
      "  1%|            | 9/1000 [00:19<34:18,  2.08s/it]\n",
      "  1%|           | 10/1000 [00:21<33:47,  2.05s/it]\n",
      "  1%|           | 11/1000 [00:23<33:27,  2.03s/it]\n",
      "  1%|▏          | 12/1000 [00:25<33:10,  2.02s/it]\n",
      "  1%|▏          | 13/1000 [00:27<32:58,  2.00s/it]\n",
      "  1%|▏          | 14/1000 [00:29<32:52,  2.00s/it]\n",
      "  2%|▏          | 15/1000 [00:31<32:43,  1.99s/it]\n",
      "  2%|▏          | 16/1000 [00:33<34:37,  2.11s/it]\n",
      "  2%|▏          | 17/1000 [00:36<35:53,  2.19s/it]\n",
      "  2%|▏          | 18/1000 [00:38<36:46,  2.25s/it]\n",
      "  2%|▏          | 19/1000 [00:40<37:13,  2.28s/it]\n",
      "  2%|▏          | 20/1000 [00:43<37:35,  2.30s/it]\n",
      "  2%|▏          | 21/1000 [00:45<38:04,  2.33s/it]\n",
      "  2%|▏          | 22/1000 [00:48<38:21,  2.35s/it]\n",
      "  2%|▎          | 23/1000 [00:50<38:59,  2.39s/it]\n",
      "  2%|▎          | 24/1000 [00:52<38:51,  2.39s/it]\n",
      "  2%|▎          | 25/1000 [00:55<38:36,  2.38s/it]\n",
      "  3%|▎          | 26/1000 [00:57<37:48,  2.33s/it]\n",
      "  3%|▎          | 27/1000 [01:00<38:39,  2.38s/it]\n",
      "  3%|▎          | 28/1000 [01:02<38:57,  2.40s/it]\n",
      "  3%|▎          | 29/1000 [01:04<38:57,  2.41s/it]\n",
      "  3%|▎          | 30/1000 [01:07<38:39,  2.39s/it]\n",
      "  3%|▎          | 31/1000 [01:09<38:40,  2.39s/it]\n",
      "  3%|▎          | 32/1000 [01:12<38:46,  2.40s/it]\n",
      "  3%|▎          | 33/1000 [01:14<39:01,  2.42s/it]\n",
      "  3%|▎          | 34/1000 [01:16<38:30,  2.39s/it]\n",
      "  4%|▍          | 35/1000 [01:19<37:55,  2.36s/it]\n",
      "  4%|▍          | 36/1000 [01:21<38:21,  2.39s/it]\n",
      "  4%|▍          | 37/1000 [01:24<38:23,  2.39s/it]\n",
      "  4%|▍          | 38/1000 [01:26<38:20,  2.39s/it]\n",
      "  4%|▍          | 39/1000 [01:28<38:27,  2.40s/it]\n",
      "  4%|▍          | 40/1000 [01:31<37:43,  2.36s/it]\n",
      "  4%|▍          | 41/1000 [01:33<36:59,  2.31s/it]\n",
      "  4%|▍          | 42/1000 [01:35<35:49,  2.24s/it]\n",
      "  4%|▍          | 43/1000 [01:37<34:56,  2.19s/it]\n",
      "  4%|▍          | 44/1000 [01:39<34:29,  2.17s/it]\n",
      "  4%|▍          | 45/1000 [01:41<34:25,  2.16s/it]\n",
      "  5%|▌          | 46/1000 [01:43<34:13,  2.15s/it]\n",
      "  5%|▌          | 47/1000 [01:45<33:38,  2.12s/it]\n",
      "  5%|▌          | 48/1000 [01:47<33:24,  2.11s/it]\n",
      "  5%|▌          | 49/1000 [01:50<33:07,  2.09s/it]\n",
      "  5%|▌          | 50/1000 [01:52<32:51,  2.08s/it]\n",
      "  5%|▌          | 51/1000 [01:54<32:40,  2.07s/it]\n",
      "  5%|▌          | 52/1000 [01:56<32:25,  2.05s/it]\n",
      "  5%|▌          | 53/1000 [01:58<32:23,  2.05s/it]\n",
      "  5%|▌          | 54/1000 [02:00<32:27,  2.06s/it]\n",
      "  6%|▌          | 55/1000 [02:02<32:40,  2.07s/it]\n",
      "  6%|▌          | 56/1000 [02:04<32:59,  2.10s/it]\n",
      "  6%|▋          | 57/1000 [02:06<32:46,  2.09s/it]\n",
      "  6%|▋          | 58/1000 [02:08<32:39,  2.08s/it]\n",
      "  6%|▋          | 59/1000 [02:10<32:33,  2.08s/it]\n",
      "  6%|▋          | 60/1000 [02:12<32:19,  2.06s/it]\n",
      "  6%|▋          | 61/1000 [02:14<32:28,  2.07s/it]\n",
      "  6%|▋          | 62/1000 [02:16<32:45,  2.10s/it]\n",
      "  6%|▋          | 63/1000 [02:19<32:46,  2.10s/it]\n",
      "  6%|▋          | 64/1000 [02:21<32:56,  2.11s/it]\n",
      "  6%|▋          | 65/1000 [02:23<32:51,  2.11s/it]\n",
      "  7%|▋          | 66/1000 [02:25<32:39,  2.10s/it]\n",
      "  7%|▋          | 67/1000 [02:27<32:24,  2.08s/it]\n",
      "  7%|▋          | 68/1000 [02:29<32:12,  2.07s/it]\n",
      "  7%|▊          | 69/1000 [02:31<32:19,  2.08s/it]\n",
      "  7%|▊          | 70/1000 [02:33<32:52,  2.12s/it]\n",
      "  7%|▊          | 71/1000 [02:35<32:45,  2.12s/it]\n",
      "  7%|▊          | 72/1000 [02:38<32:34,  2.11s/it]\n",
      "  7%|▊          | 73/1000 [02:40<32:16,  2.09s/it]\n",
      "  7%|▊          | 74/1000 [02:42<31:59,  2.07s/it]\n",
      "  8%|▊          | 75/1000 [02:44<31:47,  2.06s/it]\n",
      "  8%|▊          | 76/1000 [02:46<31:38,  2.05s/it]"
     ]
    }
   ],
   "source": [
    "episode_scores = []\n",
    "q_model = train(env, num_episodes=1000, batch_size=32, target_update_interval=100,\n",
    "                episode_scores=episode_scores, device=torch.device('cpu'))\n",
    "\n",
    "plt.plot(episode_scores)\n",
    "plt.xlabel('episode')\n",
    "plt.ylabel('score')\n",
    "plt.title('Episode Score')\n",
    "plt.show()"
   ]
  },
  {
   "cell_type": "code",
   "execution_count": null,
   "metadata": {},
   "outputs": [],
   "source": [
    "%matplotlib inline\n",
    "plt.plot(episode_scores)\n",
    "plt.xlabel('episode')\n",
    "plt.ylabel('score')\n",
    "plt.title('Episode Score')\n",
    "plt.show()"
   ]
  },
  {
   "cell_type": "code",
   "execution_count": null,
   "metadata": {},
   "outputs": [],
   "source": [
    "torch.from_numpy(np.random.random([1, state_size]))"
   ]
  },
  {
   "cell_type": "code",
   "execution_count": null,
   "metadata": {},
   "outputs": [],
   "source": [
    "random_state = torch.from_numpy(np.random.random([1, state_size])).float()\n",
    "q_model.forward(random_state)"
   ]
  },
  {
   "cell_type": "code",
   "execution_count": null,
   "metadata": {},
   "outputs": [],
   "source": [
    "aa = np.arange(10)\n",
    "ii = np.array([1,3,9])\n",
    "aa[ii]"
   ]
  },
  {
   "cell_type": "code",
   "execution_count": null,
   "metadata": {},
   "outputs": [],
   "source": [
    "aa"
   ]
  },
  {
   "cell_type": "code",
   "execution_count": null,
   "metadata": {},
   "outputs": [],
   "source": [
    "torch.rand(1, 3).size()"
   ]
  },
  {
   "cell_type": "code",
   "execution_count": 33,
   "metadata": {},
   "outputs": [
    {
     "data": {
      "text/plain": [
       "array([1, 0, 1])"
      ]
     },
     "execution_count": 33,
     "metadata": {},
     "output_type": "execute_result"
    }
   ],
   "source": [
    "aa = np.array([True, False, True]).astype(int)\n",
    "aa"
   ]
  },
  {
   "cell_type": "code",
   "execution_count": 34,
   "metadata": {},
   "outputs": [
    {
     "data": {
      "text/plain": [
       "array([0, 2, 0])"
      ]
     },
     "execution_count": 34,
     "metadata": {},
     "output_type": "execute_result"
    }
   ],
   "source": [
    "(np.logical_not(aa)) * np.array([1, 2, 3])"
   ]
  },
  {
   "cell_type": "code",
   "execution_count": 18,
   "metadata": {},
   "outputs": [
    {
     "data": {
      "text/plain": [
       "1"
      ]
     },
     "execution_count": 18,
     "metadata": {},
     "output_type": "execute_result"
    }
   ],
   "source": [
    "torch.cuda."
   ]
  },
  {
   "cell_type": "code",
   "execution_count": null,
   "metadata": {},
   "outputs": [],
   "source": []
  }
 ],
 "metadata": {
  "kernelspec": {
   "display_name": "Python 3",
   "language": "python",
   "name": "python3"
  },
  "language_info": {
   "codemirror_mode": {
    "name": "ipython",
    "version": 3
   },
   "file_extension": ".py",
   "mimetype": "text/x-python",
   "name": "python",
   "nbconvert_exporter": "python",
   "pygments_lexer": "ipython3",
   "version": "3.6.7"
  }
 },
 "nbformat": 4,
 "nbformat_minor": 2
}
